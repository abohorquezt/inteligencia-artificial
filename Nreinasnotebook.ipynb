{
 "cells": [
  {
   "cell_type": "code",
   "execution_count": 1,
   "metadata": {},
   "outputs": [
    {
     "name": "stdout",
     "output_type": "stream",
     "text": [
      "PROBLEMA DE LAS N - REINAS\n",
      "\n",
      "\n",
      "Introduce el numero de Reinas:\n",
      "\n",
      "2\n",
      "n\n"
     ]
    }
   ],
   "source": [
    "print \"PROBLEMA DE LAS N - REINAS\"\n",
    "print \"\\n\"\n",
    "print \"Introduce el numero de Reinas:\\n\"\n",
    "\n",
    "n= input()\n",
    "print \"n\"\n",
    "fila =0"
   ]
  },
  {
   "cell_type": "code",
   "execution_count": 3,
   "metadata": {},
   "outputs": [
    {
     "ename": "IndentationError",
     "evalue": "unexpected indent (<ipython-input-3-f0c832380203>, line 18)",
     "output_type": "error",
     "traceback": [
      "\u001b[1;36m  File \u001b[1;32m\"<ipython-input-3-f0c832380203>\"\u001b[1;36m, line \u001b[1;32m18\u001b[0m\n\u001b[1;33m    print fila\u001b[0m\n\u001b[1;37m    ^\u001b[0m\n\u001b[1;31mIndentationError\u001b[0m\u001b[1;31m:\u001b[0m unexpected indent\n"
     ]
    }
   ],
   "source": [
    "print \"PROBLEMA DE LAS N - REINAS\"\n",
    "print \"\\n\"\n",
    "print \"Introduce el numero de Reinas:\\n\"\n",
    "\n",
    "n= input()\n",
    "print \"\\n\"\n",
    "fila =0\n",
    "reinas = [-1]\n",
    "estado=0\n",
    "\n",
    "for i in range (n-1):\n",
    "    reinas =reinas+[-1]\n",
    "    print reinas\n",
    "    finalizo =False\n",
    "    if fila<n:\n",
    "        while ((reinas[fila])<n-1 and finalizo):\n",
    "            reinas [fila] =reinas [fila]+1\n",
    "\t\t\tprint fila\n",
    "            print reinas"
   ]
  },
  {
   "cell_type": "code",
   "execution_count": 4,
   "metadata": {},
   "outputs": [
    {
     "name": "stdout",
     "output_type": "stream",
     "text": [
      "PROBLEMA DE LAS N - REINAS\n",
      "\n",
      "\n",
      "Introduce el numero de Reinas:\n",
      "\n",
      "3\n",
      "\n",
      "\n",
      "[-1, -1]\n",
      "[-1, -1, -1]\n"
     ]
    }
   ],
   "source": [
    "print \"PROBLEMA DE LAS N - REINAS\"\n",
    "print \"\\n\"\n",
    "print \"Introduce el numero de Reinas:\\n\"\n",
    "\n",
    "n= input()\n",
    "print \"\\n\"\n",
    "fila =0\n",
    "reinas = [-1]\n",
    "estado=0\n",
    "\n",
    "for i in range (n-1):\n",
    "    reinas =reinas+[-1]\n",
    "    print reinas\n",
    "    finalizo =False\n",
    "    if fila<n:\n",
    "        while ((reinas[fila])<n-1 and finalizo):\n",
    "            reinas [fila] =reinas [fila]+1\n",
    "            print reinas"
   ]
  },
  {
   "cell_type": "code",
   "execution_count": 5,
   "metadata": {},
   "outputs": [
    {
     "name": "stdout",
     "output_type": "stream",
     "text": [
      "PROBLEMA DE LAS N - REINAS\n",
      "\n",
      "\n",
      "Introduce el numero de Reinas:\n",
      "\n",
      "3\n",
      "\n",
      "\n",
      "[-1, -1]\n",
      "[2, -1, -1]\n"
     ]
    }
   ],
   "source": [
    "print \"PROBLEMA DE LAS N - REINAS\"\n",
    "print \"\\n\"\n",
    "print \"Introduce el numero de Reinas:\\n\"\n",
    "\n",
    "n= input()\n",
    "print \"\\n\"\n",
    "fila =0\n",
    "reinas = [-1]\n",
    "estado=0\n",
    "\n",
    "for i in range (n-1):\n",
    "    reinas =reinas+[-1]\n",
    "    print reinas\n",
    "    finalizo =False\n",
    "    if fila<n:\n",
    "        while ((reinas[fila])<n-1):\n",
    "            reinas [fila] =reinas [fila]+1\n",
    "for j in range (fila):\n",
    "                if ((reinas[j]==reinas[fila]) or (abs (fila-j) == abs (reinas[fila]-reinas[j]))):\n",
    "                    finalizo = False\n",
    "                else:\n",
    "                    finalizo =True"
   ]
  },
  {
   "cell_type": "code",
   "execution_count": 10,
   "metadata": {},
   "outputs": [
    {
     "ename": "IndentationError",
     "evalue": "unindent does not match any outer indentation level (<ipython-input-10-387bc96f0a8b>, line 22)",
     "output_type": "error",
     "traceback": [
      "\u001b[1;36m  File \u001b[1;32m\"<ipython-input-10-387bc96f0a8b>\"\u001b[1;36m, line \u001b[1;32m22\u001b[0m\n\u001b[1;33m    print (finalizo,reinas)\u001b[0m\n\u001b[1;37m                           ^\u001b[0m\n\u001b[1;31mIndentationError\u001b[0m\u001b[1;31m:\u001b[0m unindent does not match any outer indentation level\n"
     ]
    }
   ],
   "source": [
    "print \"PROBLEMA DE LAS N - REINAS\"\n",
    "print \"\\n\"\n",
    "print \"Introduce el numero de Reinas:\\n\"\n",
    "\n",
    "n= input()\n",
    "print \"\\n\"\n",
    "fila =0\n",
    "reinas = [-1]\n",
    "estado=0\n",
    "\n",
    "for i in range (n-1):\n",
    "    reinas =reinas+[-1]\n",
    "    finalizo =False\n",
    "    if fila<n:\n",
    "        while ((reinas[fila])<n-1):\n",
    "            reinas [fila] =reinas [fila]+1\n",
    "for j in range (fila):\n",
    "                if ((reinas[j]==reinas[fila]) or (abs (fila-j) == abs (reinas[fila]-reinas[j]))):\n",
    "                    finalizo = False\n",
    "                else:\n",
    "                    finalizo =True\n",
    "    print (finalizo,reinas)"
   ]
  },
  {
   "cell_type": "code",
   "execution_count": 11,
   "metadata": {},
   "outputs": [
    {
     "name": "stdout",
     "output_type": "stream",
     "text": [
      "PROBLEMA DE LAS N - REINAS\n",
      "\n",
      "\n",
      "Introduce el numero de Reinas:\n",
      "\n",
      "10\n",
      "\n",
      "\n",
      "[-1, -1]\n",
      "(False, [-1, -1])\n",
      "[-1, -1, -1]\n",
      "(False, [-1, -1, -1])\n",
      "[-1, -1, -1, -1]\n",
      "(False, [-1, -1, -1, -1])\n",
      "[-1, -1, -1, -1, -1]\n",
      "(False, [-1, -1, -1, -1, -1])\n",
      "[-1, -1, -1, -1, -1, -1]\n",
      "(False, [-1, -1, -1, -1, -1, -1])\n",
      "[-1, -1, -1, -1, -1, -1, -1]\n",
      "(False, [-1, -1, -1, -1, -1, -1, -1])\n",
      "[-1, -1, -1, -1, -1, -1, -1, -1]\n",
      "(False, [-1, -1, -1, -1, -1, -1, -1, -1])\n",
      "[-1, -1, -1, -1, -1, -1, -1, -1, -1]\n",
      "(False, [-1, -1, -1, -1, -1, -1, -1, -1, -1])\n",
      "[-1, -1, -1, -1, -1, -1, -1, -1, -1, -1]\n",
      "(False, [-1, -1, -1, -1, -1, -1, -1, -1, -1, -1])\n"
     ]
    }
   ],
   "source": [
    "print \"PROBLEMA DE LAS N - REINAS\"\n",
    "print \"\\n\"\n",
    "print \"Introduce el numero de Reinas:\\n\"\n",
    "\n",
    "n= input()\n",
    "print \"\\n\"\n",
    "fila =0\n",
    "reinas = [-1]\n",
    "estado=0\n",
    "\n",
    "for i in range (n-1):\n",
    "    reinas =reinas+[-1]\n",
    "    print reinas\n",
    "    finalizo =False\n",
    "    if fila<n:\n",
    "        while ((reinas[fila])<n-1 and finalizo):\n",
    "            reinas [fila] =reinas [fila]+1\n",
    "            for j in range (fila):\n",
    "                if ((reinas[j]==reinas[fila]) or (abs (fila-j) == abs (reinas[fila]-reinas[j]))):\n",
    "                    finalizo = False\n",
    "                else:\n",
    "                    finalizo =True\n",
    "    print (finalizo, reinas)  "
   ]
  },
  {
   "cell_type": "code",
   "execution_count": 19,
   "metadata": {},
   "outputs": [
    {
     "name": "stdout",
     "output_type": "stream",
     "text": [
      "PROBLEMA DE LAS N - REINAS\n",
      "\n",
      "\n",
      "Introduce el numero de Reinas:\n",
      "\n",
      "10\n",
      "\n",
      "\n",
      "[-1, -1]\n",
      "(False, [-1, -1])\n",
      "[-1, -1, -1]\n",
      "(False, [-1, -1, -1])\n",
      "[-1, -1, -1, -1]\n",
      "(False, [-1, -1, -1, -1])\n",
      "[-1, -1, -1, -1, -1]\n",
      "(False, [-1, -1, -1, -1, -1])\n",
      "[-1, -1, -1, -1, -1, -1]\n",
      "(False, [-1, -1, -1, -1, -1, -1])\n",
      "[-1, -1, -1, -1, -1, -1, -1]\n",
      "(False, [-1, -1, -1, -1, -1, -1, -1])\n",
      "[-1, -1, -1, -1, -1, -1, -1, -1]\n",
      "(False, [-1, -1, -1, -1, -1, -1, -1, -1])\n",
      "[-1, -1, -1, -1, -1, -1, -1, -1, -1]\n",
      "(False, [-1, -1, -1, -1, -1, -1, -1, -1, -1])\n",
      "[-1, -1, -1, -1, -1, -1, -1, -1, -1, -1]\n",
      "(False, [-1, -1, -1, -1, -1, -1, -1, -1, -1, -1])\n"
     ]
    }
   ],
   "source": [
    "print \"PROBLEMA DE LAS N - REINAS\"\n",
    "print \"\\n\"\n",
    "print \"Introduce el numero de Reinas:\\n\"\n",
    "\n",
    "n= input()\n",
    "print \"\\n\"\n",
    "fila =0\n",
    "reinas = [-1]\n",
    "estado=0\n",
    "\n",
    "for i in range (n-1):\n",
    "    reinas =reinas+[-1]\n",
    "    print reinas\n",
    "    finalizo =False\n",
    "    if n>0:\n",
    "        if fila<n:\n",
    "            while ((reinas[fila])<n-1 and finalizo):\n",
    "                reinas [fila] =reinas [fila]+1\n",
    "                for j in range (fila):\n",
    "                    if ((reinas[j]==reinas[fila]) or (abs (fila-j) == abs (reinas[fila]-reinas[j]))):\n",
    "                        finalizo = False\n",
    "                        \n",
    "                    else:\n",
    "                        finalizo =True\n",
    "                        \n",
    "        fila=fila+1\n",
    "        print (finalizo, reinas)\n",
    "    else:\n",
    "        print \"error....\""
   ]
  },
  {
   "cell_type": "code",
   "execution_count": null,
   "metadata": {
    "collapsed": true
   },
   "outputs": [],
   "source": []
  }
 ],
 "metadata": {
  "kernelspec": {
   "display_name": "Python 2",
   "language": "python",
   "name": "python2"
  },
  "language_info": {
   "codemirror_mode": {
    "name": "ipython",
    "version": 2
   },
   "file_extension": ".py",
   "mimetype": "text/x-python",
   "name": "python",
   "nbconvert_exporter": "python",
   "pygments_lexer": "ipython2",
   "version": "2.7.13"
  }
 },
 "nbformat": 4,
 "nbformat_minor": 2
}
